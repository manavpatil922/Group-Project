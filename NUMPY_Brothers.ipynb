{
  "nbformat": 4,
  "nbformat_minor": 0,
  "metadata": {
    "colab": {
      "name": "NUMPY Brothers.ipynb",
      "provenance": [],
      "collapsed_sections": []
    },
    "kernelspec": {
      "name": "python3",
      "display_name": "Python 3"
    },
    "language_info": {
      "name": "python"
    }
  },
  "cells": [
    {
      "cell_type": "markdown",
      "source": [
        "Exercise-1(Import the numpy package under the name np)"
      ],
      "metadata": {
        "id": "QY8IpxZyEVE8"
      }
    },
    {
      "cell_type": "code",
      "execution_count": null,
      "metadata": {
        "id": "jjXlCgL7EI-r"
      },
      "outputs": [],
      "source": [
        "import numpy as np"
      ]
    },
    {
      "cell_type": "markdown",
      "source": [
        "Exercise-2(Print the numpy version and the configuration)\n"
      ],
      "metadata": {
        "id": "jAPtZoBLEa1C"
      }
    },
    {
      "cell_type": "code",
      "source": [
        "print(np.__version__)\n",
        "np.show_config()"
      ],
      "metadata": {
        "colab": {
          "base_uri": "https://localhost:8080/"
        },
        "id": "DsIYwlp7Ed39",
        "outputId": "2e9e3e42-4861-4515-e8cc-d560383a067e"
      },
      "execution_count": null,
      "outputs": [
        {
          "output_type": "stream",
          "name": "stdout",
          "text": [
            "1.21.6\n",
            "blas_mkl_info:\n",
            "  NOT AVAILABLE\n",
            "blis_info:\n",
            "  NOT AVAILABLE\n",
            "openblas_info:\n",
            "    libraries = ['openblas', 'openblas']\n",
            "    library_dirs = ['/usr/local/lib']\n",
            "    language = c\n",
            "    define_macros = [('HAVE_CBLAS', None)]\n",
            "    runtime_library_dirs = ['/usr/local/lib']\n",
            "blas_opt_info:\n",
            "    libraries = ['openblas', 'openblas']\n",
            "    library_dirs = ['/usr/local/lib']\n",
            "    language = c\n",
            "    define_macros = [('HAVE_CBLAS', None)]\n",
            "    runtime_library_dirs = ['/usr/local/lib']\n",
            "lapack_mkl_info:\n",
            "  NOT AVAILABLE\n",
            "openblas_lapack_info:\n",
            "    libraries = ['openblas', 'openblas']\n",
            "    library_dirs = ['/usr/local/lib']\n",
            "    language = c\n",
            "    define_macros = [('HAVE_CBLAS', None)]\n",
            "    runtime_library_dirs = ['/usr/local/lib']\n",
            "lapack_opt_info:\n",
            "    libraries = ['openblas', 'openblas']\n",
            "    library_dirs = ['/usr/local/lib']\n",
            "    language = c\n",
            "    define_macros = [('HAVE_CBLAS', None)]\n",
            "    runtime_library_dirs = ['/usr/local/lib']\n",
            "Supported SIMD extensions in this NumPy install:\n",
            "    baseline = SSE,SSE2,SSE3\n",
            "    found = SSSE3,SSE41,POPCNT,SSE42,AVX,F16C,FMA3,AVX2\n",
            "    not found = AVX512F,AVX512CD,AVX512_KNL,AVX512_KNM,AVX512_SKX,AVX512_CLX,AVX512_CNL,AVX512_ICL\n"
          ]
        }
      ]
    },
    {
      "cell_type": "markdown",
      "source": [
        "Exercise-3(Print the numpy version and the configuration)\n"
      ],
      "metadata": {
        "id": "d2_AksGOEvIF"
      }
    },
    {
      "cell_type": "code",
      "source": [
        "\n",
        "import numpy as np\n",
        "Z=np.zeros(10)\n",
        "print(Z)"
      ],
      "metadata": {
        "colab": {
          "base_uri": "https://localhost:8080/"
        },
        "id": "-3yb9qOHExvX",
        "outputId": "a926c978-8ad1-4f1e-8b2a-5a50a6847199"
      },
      "execution_count": null,
      "outputs": [
        {
          "output_type": "stream",
          "name": "stdout",
          "text": [
            "[0. 0. 0. 0. 0. 0. 0. 0. 0. 0.]\n"
          ]
        }
      ]
    },
    {
      "cell_type": "markdown",
      "source": [
        "Exercise-4( How to get the documentation of the numpy add function from the command line?)"
      ],
      "metadata": {
        "id": "C0RBHFcGE89T"
      }
    },
    {
      "cell_type": "code",
      "source": [
        "\n",
        "import numpy\n",
        "numpy.info(numpy.multiply) "
      ],
      "metadata": {
        "colab": {
          "base_uri": "https://localhost:8080/"
        },
        "id": "PUE-Pyp4E_eN",
        "outputId": "8dd54df5-521b-4d02-fda6-73c1c57e1611"
      },
      "execution_count": null,
      "outputs": [
        {
          "output_type": "stream",
          "name": "stdout",
          "text": [
            "multiply(x1, x2, /, out=None, *, where=True, casting='same_kind', order='K', dtype=None, subok=True[, signature, extobj])\n",
            "\n",
            "Multiply arguments element-wise.\n",
            "\n",
            "Parameters\n",
            "----------\n",
            "x1, x2 : array_like\n",
            "    Input arrays to be multiplied.\n",
            "    If ``x1.shape != x2.shape``, they must be broadcastable to a common\n",
            "    shape (which becomes the shape of the output).\n",
            "out : ndarray, None, or tuple of ndarray and None, optional\n",
            "    A location into which the result is stored. If provided, it must have\n",
            "    a shape that the inputs broadcast to. If not provided or None,\n",
            "    a freshly-allocated array is returned. A tuple (possible only as a\n",
            "    keyword argument) must have length equal to the number of outputs.\n",
            "where : array_like, optional\n",
            "    This condition is broadcast over the input. At locations where the\n",
            "    condition is True, the `out` array will be set to the ufunc result.\n",
            "    Elsewhere, the `out` array will retain its original value.\n",
            "    Note that if an uninitialized `out` array is created via the default\n",
            "    ``out=None``, locations within it where the condition is False will\n",
            "    remain uninitialized.\n",
            "**kwargs\n",
            "    For other keyword-only arguments, see the\n",
            "    :ref:`ufunc docs <ufuncs.kwargs>`.\n",
            "\n",
            "Returns\n",
            "-------\n",
            "y : ndarray\n",
            "    The product of `x1` and `x2`, element-wise.\n",
            "    This is a scalar if both `x1` and `x2` are scalars.\n",
            "\n",
            "Notes\n",
            "-----\n",
            "Equivalent to `x1` * `x2` in terms of array broadcasting.\n",
            "\n",
            "Examples\n",
            "--------\n",
            ">>> np.multiply(2.0, 4.0)\n",
            "8.0\n",
            "\n",
            ">>> x1 = np.arange(9.0).reshape((3, 3))\n",
            ">>> x2 = np.arange(3.0)\n",
            ">>> np.multiply(x1, x2)\n",
            "array([[  0.,   1.,   4.],\n",
            "       [  0.,   4.,  10.],\n",
            "       [  0.,   7.,  16.]])\n",
            "\n",
            "The ``*`` operator can be used as a shorthand for ``np.multiply`` on\n",
            "ndarrays.\n",
            "\n",
            ">>> x1 = np.arange(9.0).reshape((3, 3))\n",
            ">>> x2 = np.arange(3.0)\n",
            ">>> x1 * x2\n",
            "array([[  0.,   1.,   4.],\n",
            "       [  0.,   4.,  10.],\n",
            "       [  0.,   7.,  16.]])\n"
          ]
        }
      ]
    },
    {
      "cell_type": "markdown",
      "source": [
        "Exercise-5(Create a null vector of size 10 but the fifth value which is 1)"
      ],
      "metadata": {
        "id": "YHoW8TjLGRAR"
      }
    },
    {
      "cell_type": "code",
      "source": [
        "Z = np.zeros(10) \n",
        "Z[4] = 1 \n",
        "print(Z) \n"
      ],
      "metadata": {
        "colab": {
          "base_uri": "https://localhost:8080/"
        },
        "id": "BS0srMy1GZ60",
        "outputId": "f5bc4125-d976-48c2-9545-f735901017ed"
      },
      "execution_count": null,
      "outputs": [
        {
          "output_type": "stream",
          "name": "stdout",
          "text": [
            "[0. 0. 0. 0. 1. 0. 0. 0. 0. 0.]\n"
          ]
        }
      ]
    },
    {
      "cell_type": "markdown",
      "source": [
        "Exercise-6(Create a vector with values ranging from 10 to 49)"
      ],
      "metadata": {
        "id": "o5kUDg1KGj31"
      }
    },
    {
      "cell_type": "code",
      "source": [
        "import numpy as np\n",
        "Z = np.arange(10,50) \n",
        "print(Z) \n"
      ],
      "metadata": {
        "colab": {
          "base_uri": "https://localhost:8080/"
        },
        "id": "6FsOvxOJGlj-",
        "outputId": "8e003e09-e277-4a75-954f-66bb35755c1f"
      },
      "execution_count": null,
      "outputs": [
        {
          "output_type": "stream",
          "name": "stdout",
          "text": [
            "[10 11 12 13 14 15 16 17 18 19 20 21 22 23 24 25 26 27 28 29 30 31 32 33\n",
            " 34 35 36 37 38 39 40 41 42 43 44 45 46 47 48 49]\n"
          ]
        }
      ]
    },
    {
      "cell_type": "markdown",
      "source": [
        "Exercise-7(Reverse a vector (first element becomes last))"
      ],
      "metadata": {
        "id": "3v9QwUYfGone"
      }
    },
    {
      "cell_type": "code",
      "source": [
        "Z = np.arange(50) \n",
        "Z = Z[::-1] \n",
        "print(Z)\n",
        "\n"
      ],
      "metadata": {
        "colab": {
          "base_uri": "https://localhost:8080/"
        },
        "id": "utyN8CulGqPh",
        "outputId": "419e59a2-1b46-42d7-9ab7-39eb48f23192"
      },
      "execution_count": null,
      "outputs": [
        {
          "output_type": "stream",
          "name": "stdout",
          "text": [
            "[49 48 47 46 45 44 43 42 41 40 39 38 37 36 35 34 33 32 31 30 29 28 27 26\n",
            " 25 24 23 22 21 20 19 18 17 16 15 14 13 12 11 10  9  8  7  6  5  4  3  2\n",
            "  1  0]\n"
          ]
        }
      ]
    },
    {
      "cell_type": "markdown",
      "source": [
        "Exercise-8(Create a 3x3 matrix with values ranging from 0 to 8)\n"
      ],
      "metadata": {
        "id": "jXMEBrmPIl7l"
      }
    },
    {
      "cell_type": "code",
      "source": [
        "Z = np.arange(9).reshape(3,3) \n",
        "print(Z) \n"
      ],
      "metadata": {
        "colab": {
          "base_uri": "https://localhost:8080/"
        },
        "id": "_qdXgj5PIny_",
        "outputId": "529a419d-ea08-464a-efc9-c77ca5b82f11"
      },
      "execution_count": null,
      "outputs": [
        {
          "output_type": "stream",
          "name": "stdout",
          "text": [
            "[[0 1 2]\n",
            " [3 4 5]\n",
            " [6 7 8]]\n"
          ]
        }
      ]
    },
    {
      "cell_type": "markdown",
      "source": [
        "Exercise-9(find indices of non zero elements)"
      ],
      "metadata": {
        "id": "lre6wYB_KLu4"
      }
    },
    {
      "cell_type": "code",
      "source": [
        "nz = np.nonzero([1,2,0,0,4,0]) \n",
        "print(nz) \n"
      ],
      "metadata": {
        "colab": {
          "base_uri": "https://localhost:8080/"
        },
        "id": "WIeS5slVKNc8",
        "outputId": "33f65c22-f4d4-49c8-a23b-1d0ad0ce787d"
      },
      "execution_count": null,
      "outputs": [
        {
          "output_type": "stream",
          "name": "stdout",
          "text": [
            "(array([0, 1, 4]),)\n"
          ]
        }
      ]
    },
    {
      "cell_type": "markdown",
      "source": [
        "Exercise-10(Create a 3x3 identity matrix )"
      ],
      "metadata": {
        "id": "Qe0yoJeGLDEz"
      }
    },
    {
      "cell_type": "code",
      "source": [
        "Z = np.eye(3) \n",
        "print(Z)"
      ],
      "metadata": {
        "colab": {
          "base_uri": "https://localhost:8080/"
        },
        "id": "RBg1O0uYLF4u",
        "outputId": "2197612b-c8f5-438d-a603-2e88138ca471"
      },
      "execution_count": null,
      "outputs": [
        {
          "output_type": "stream",
          "name": "stdout",
          "text": [
            "[[1. 0. 0.]\n",
            " [0. 1. 0.]\n",
            " [0. 0. 1.]]\n"
          ]
        }
      ]
    },
    {
      "cell_type": "markdown",
      "source": [
        "Exercise-11( Create a 3x3x3 array with random values)"
      ],
      "metadata": {
        "id": "hfB7-0eaG1Gd"
      }
    },
    {
      "cell_type": "code",
      "source": [
        "import numpy as np\n",
        "Z=np.random.random((3,3,3)) \n",
        "print(Z) \n"
      ],
      "metadata": {
        "colab": {
          "base_uri": "https://localhost:8080/"
        },
        "id": "OqYr5Wl5G3tN",
        "outputId": "55daac83-0798-4bf3-84e3-7d62acf10ea3"
      },
      "execution_count": null,
      "outputs": [
        {
          "output_type": "stream",
          "name": "stdout",
          "text": [
            "[[[0.80202293 0.80876269 0.18143178]\n",
            "  [0.33394415 0.03208736 0.18860213]\n",
            "  [0.47035449 0.47052116 0.68938311]]\n",
            "\n",
            " [[0.91919107 0.5086596  0.88574746]\n",
            "  [0.84258907 0.14785515 0.76929852]\n",
            "  [0.76127353 0.80392831 0.39659248]]\n",
            "\n",
            " [[0.76460804 0.21044928 0.85778232]\n",
            "  [0.59934021 0.45548772 0.76080812]\n",
            "  [0.6466748  0.47895726 0.69081666]]]\n"
          ]
        }
      ]
    },
    {
      "cell_type": "markdown",
      "source": [
        "Exercise-12(Create a 10x10 array with random values and find the minimum and maximum values)"
      ],
      "metadata": {
        "id": "4zs-6A29ItZz"
      }
    },
    {
      "cell_type": "code",
      "source": [
        "import numpy as np\n",
        "Z = np.random.random((10,10)) \n",
        "Zmin, Zmax = Z.min(), Z.max() \n",
        "print(Zmin, Zmax)\n",
        "print(Z) \n"
      ],
      "metadata": {
        "colab": {
          "base_uri": "https://localhost:8080/"
        },
        "id": "irDFO4XYIvfN",
        "outputId": "204381b9-9553-4da1-beee-157c2172287d"
      },
      "execution_count": null,
      "outputs": [
        {
          "output_type": "stream",
          "name": "stdout",
          "text": [
            "0.004270995304508585 0.9983964760715762\n",
            "[[0.60832949 0.25357725 0.97269142 0.85477444 0.79542388 0.34154829\n",
            "  0.72226148 0.19212795 0.38494376 0.86872622]\n",
            " [0.35111516 0.49757423 0.27456227 0.73696696 0.7942998  0.75758442\n",
            "  0.72112761 0.38891296 0.84849022 0.77281783]\n",
            " [0.27774582 0.84560977 0.53248596 0.30538608 0.55448536 0.959554\n",
            "  0.00501174 0.5834073  0.63690461 0.14329468]\n",
            " [0.69699687 0.83610631 0.29691852 0.80771908 0.4945647  0.41729826\n",
            "  0.66166953 0.35872249 0.72879932 0.99839648]\n",
            " [0.92287424 0.77024196 0.81636239 0.0452964  0.004271   0.04470878\n",
            "  0.83349525 0.24757267 0.58401174 0.20995292]\n",
            " [0.04181433 0.234059   0.09490047 0.45387161 0.38134428 0.2038362\n",
            "  0.135633   0.5090819  0.82731162 0.35302228]\n",
            " [0.93379462 0.66694032 0.60944083 0.12394306 0.12177343 0.23565229\n",
            "  0.31836858 0.8341601  0.23697261 0.60057798]\n",
            " [0.70987654 0.36668391 0.35087694 0.61071998 0.54312257 0.04278643\n",
            "  0.47041422 0.71490866 0.75648253 0.39136664]\n",
            " [0.05441336 0.92602543 0.44155226 0.9938769  0.97496744 0.6665262\n",
            "  0.47877211 0.89126405 0.88617343 0.853224  ]\n",
            " [0.18393335 0.9418235  0.20207047 0.41876638 0.05202021 0.58922082\n",
            "  0.63154331 0.2595996  0.44446767 0.61785276]]\n"
          ]
        }
      ]
    },
    {
      "cell_type": "markdown",
      "source": [
        "Exercise-13(Create a random vector of size 30 and find the mean value )"
      ],
      "metadata": {
        "id": "dgfIZ2WWKHXl"
      }
    },
    {
      "cell_type": "code",
      "source": [
        "import numpy as np\n",
        "Z = np.random.random(30) \n",
        "m = Z.mean() \n",
        "print(m)\n",
        " \n"
      ],
      "metadata": {
        "colab": {
          "base_uri": "https://localhost:8080/"
        },
        "id": "77HS9OZsKI-t",
        "outputId": "35c7a9d3-ccb4-4ca6-f3f0-15693dda856d"
      },
      "execution_count": null,
      "outputs": [
        {
          "output_type": "stream",
          "name": "stdout",
          "text": [
            "0.491137172539822\n"
          ]
        }
      ]
    },
    {
      "cell_type": "markdown",
      "source": [
        "Exercise-14(Create a 2d array with 1 on the border and 0 inside)"
      ],
      "metadata": {
        "id": "hUwegIdWNFOm"
      }
    },
    {
      "cell_type": "code",
      "source": [
        "import numpy as np\n",
        "Z = np.ones((10,10)) \n",
        "Z[1:-1,1:-1] = 0\n",
        "print(Z) \n"
      ],
      "metadata": {
        "colab": {
          "base_uri": "https://localhost:8080/"
        },
        "id": "9zF2R7ihNH2v",
        "outputId": "b201e98f-e65b-4a88-e1da-8ab2fdeaae94"
      },
      "execution_count": null,
      "outputs": [
        {
          "output_type": "stream",
          "name": "stdout",
          "text": [
            "[[1. 1. 1. 1. 1. 1. 1. 1. 1. 1.]\n",
            " [1. 0. 0. 0. 0. 0. 0. 0. 0. 1.]\n",
            " [1. 0. 0. 0. 0. 0. 0. 0. 0. 1.]\n",
            " [1. 0. 0. 0. 0. 0. 0. 0. 0. 1.]\n",
            " [1. 0. 0. 0. 0. 0. 0. 0. 0. 1.]\n",
            " [1. 0. 0. 0. 0. 0. 0. 0. 0. 1.]\n",
            " [1. 0. 0. 0. 0. 0. 0. 0. 0. 1.]\n",
            " [1. 0. 0. 0. 0. 0. 0. 0. 0. 1.]\n",
            " [1. 0. 0. 0. 0. 0. 0. 0. 0. 1.]\n",
            " [1. 1. 1. 1. 1. 1. 1. 1. 1. 1.]]\n"
          ]
        }
      ]
    },
    {
      "cell_type": "markdown",
      "source": [
        "Exercise-15(What is the result of the following expression?)"
      ],
      "metadata": {
        "id": "a4dFlOw0NZdb"
      }
    },
    {
      "cell_type": "code",
      "source": [
        "\n",
        "import numpy as np\n",
        "0 * np.nan \n",
        "np.nan == np.nan \n",
        "np.inf > np.nan \n",
        "np.nan - np.nan \n",
        "0.3 == 3 * 0.1 \n",
        "\n",
        "\n"
      ],
      "metadata": {
        "colab": {
          "base_uri": "https://localhost:8080/"
        },
        "id": "XvyzD3P0NbVE",
        "outputId": "2523e128-3c45-428b-e1b5-a968a137c070"
      },
      "execution_count": null,
      "outputs": [
        {
          "output_type": "execute_result",
          "data": {
            "text/plain": [
              "False"
            ]
          },
          "metadata": {},
          "execution_count": 12
        }
      ]
    },
    {
      "cell_type": "markdown",
      "source": [
        "Exercise-16( Create a 5x5 matrix with values 1,2,3,4 just below the diagonal )"
      ],
      "metadata": {
        "id": "R8fXw1pGNm_Q"
      }
    },
    {
      "cell_type": "code",
      "source": [
        "Z = np.diag(1+np.arange(4),k=-1)\n",
        "print(Z) \n"
      ],
      "metadata": {
        "colab": {
          "base_uri": "https://localhost:8080/"
        },
        "id": "l7RxocgSNqTe",
        "outputId": "868d6bb2-4ada-4e7d-87cb-24fefb2fec10"
      },
      "execution_count": null,
      "outputs": [
        {
          "output_type": "stream",
          "name": "stdout",
          "text": [
            "[[0 0 0 0 0]\n",
            " [1 0 0 0 0]\n",
            " [0 2 0 0 0]\n",
            " [0 0 3 0 0]\n",
            " [0 0 0 4 0]]\n"
          ]
        }
      ]
    },
    {
      "cell_type": "markdown",
      "source": [
        "Exercise-17(Create a 8x8 matrix and fill it with a checkerboard pattern)"
      ],
      "metadata": {
        "id": "GFf_-OfENx2d"
      }
    },
    {
      "cell_type": "code",
      "source": [
        "Z = np.zeros((8,8),dtype=int) \n",
        "Z[1::2,::2] = 1 \n",
        "Z[::2,1::2] = 1 \n",
        "print(Z) \n"
      ],
      "metadata": {
        "colab": {
          "base_uri": "https://localhost:8080/"
        },
        "id": "b7A43-pJN0e_",
        "outputId": "8d2e2556-d0b4-433c-cd4e-8d324c6b1f1a"
      },
      "execution_count": null,
      "outputs": [
        {
          "output_type": "stream",
          "name": "stdout",
          "text": [
            "[[0 1 0 1 0 1 0 1]\n",
            " [1 0 1 0 1 0 1 0]\n",
            " [0 1 0 1 0 1 0 1]\n",
            " [1 0 1 0 1 0 1 0]\n",
            " [0 1 0 1 0 1 0 1]\n",
            " [1 0 1 0 1 0 1 0]\n",
            " [0 1 0 1 0 1 0 1]\n",
            " [1 0 1 0 1 0 1 0]]\n"
          ]
        }
      ]
    },
    {
      "cell_type": "markdown",
      "source": [
        "Exercise-18(Consider a (6,7,8) shape array, what is the index (x,y,z) of the 100th element?)"
      ],
      "metadata": {
        "id": "xAS_rbxMOARO"
      }
    },
    {
      "cell_type": "code",
      "source": [
        "print(np.unravel_index(100,(6,7,8))) \n"
      ],
      "metadata": {
        "colab": {
          "base_uri": "https://localhost:8080/"
        },
        "id": "vTCBh_FHOCj7",
        "outputId": "2225924a-e450-482a-9ecf-7e703ddd54b9"
      },
      "execution_count": null,
      "outputs": [
        {
          "output_type": "stream",
          "name": "stdout",
          "text": [
            "(1, 5, 4)\n"
          ]
        }
      ]
    },
    {
      "cell_type": "markdown",
      "source": [
        "Exercise-19(Create a checkerboard 8x8 matrix using the tile function)"
      ],
      "metadata": {
        "id": "1ekgy4oPQR1l"
      }
    },
    {
      "cell_type": "code",
      "source": [
        "Z = np.tile( np.array([[0,1],[1,0]]), (4,4)) \n",
        "print(Z) \n"
      ],
      "metadata": {
        "colab": {
          "base_uri": "https://localhost:8080/"
        },
        "id": "_7L3Yt_OQTsz",
        "outputId": "c6dfbccd-f00e-4563-95fd-95a4ad7c9d9d"
      },
      "execution_count": null,
      "outputs": [
        {
          "output_type": "stream",
          "name": "stdout",
          "text": [
            "[[0 1 0 1 0 1 0 1]\n",
            " [1 0 1 0 1 0 1 0]\n",
            " [0 1 0 1 0 1 0 1]\n",
            " [1 0 1 0 1 0 1 0]\n",
            " [0 1 0 1 0 1 0 1]\n",
            " [1 0 1 0 1 0 1 0]\n",
            " [0 1 0 1 0 1 0 1]\n",
            " [1 0 1 0 1 0 1 0]]\n"
          ]
        }
      ]
    },
    {
      "cell_type": "markdown",
      "source": [
        "Exercise-20(Normalize a 5x5 random matrix)"
      ],
      "metadata": {
        "id": "6vSttSfNQZNr"
      }
    },
    {
      "cell_type": "code",
      "source": [
        "Z = np.random.random((5,5)) \n",
        "Zmax, Zmin = Z.max(), Z.min() \n",
        "Z = (Z - Zmin)/(Zmax - Zmin) \n",
        "print(Z) \n"
      ],
      "metadata": {
        "colab": {
          "base_uri": "https://localhost:8080/"
        },
        "id": "k2kKicCwQcER",
        "outputId": "07c075a8-efd9-4193-bc9a-d049244de0e8"
      },
      "execution_count": null,
      "outputs": [
        {
          "output_type": "stream",
          "name": "stdout",
          "text": [
            "[[0.80018604 0.55954714 0.48927762 0.6785883  0.86059343]\n",
            " [0.6620929  0.76499585 0.04633267 1.         0.35917546]\n",
            " [0.35463478 0.06723675 0.08750303 0.81072978 0.84923778]\n",
            " [0.74360092 0.86402421 0.         0.04104223 0.40930823]\n",
            " [0.93817363 0.16867686 0.5203128  0.90029301 0.63268383]]\n"
          ]
        }
      ]
    },
    {
      "cell_type": "markdown",
      "source": [
        "Exercise-22"
      ],
      "metadata": {
        "id": "zlb2xTi3_J4-"
      }
    },
    {
      "cell_type": "code",
      "source": [
        "Z = np.dot(np.ones((5,3)), np.ones((3,2))) \n",
        "print(Z) \n",
        "\n"
      ],
      "metadata": {
        "colab": {
          "base_uri": "https://localhost:8080/"
        },
        "id": "RfHACOTh_MwH",
        "outputId": "dc28ff2e-7398-43ae-deb3-1d8afe828c9b"
      },
      "execution_count": null,
      "outputs": [
        {
          "output_type": "stream",
          "name": "stdout",
          "text": [
            "[[3. 3.]\n",
            " [3. 3.]\n",
            " [3. 3.]\n",
            " [3. 3.]\n",
            " [3. 3.]]\n"
          ]
        }
      ]
    },
    {
      "cell_type": "markdown",
      "source": [
        "Exercise-23"
      ],
      "metadata": {
        "id": "Ad3v70qF_ixo"
      }
    },
    {
      "cell_type": "code",
      "source": [
        "import numpy as np\n",
        "Z = np.arange(11) \n",
        "Z[(3 < Z) & (Z <= 8)] *= -1 \n",
        "print(Z)\n"
      ],
      "metadata": {
        "colab": {
          "base_uri": "https://localhost:8080/"
        },
        "id": "iLu3fNuu_lFD",
        "outputId": "8502f62d-245f-46f9-d3c4-f39fbdaa124b"
      },
      "execution_count": null,
      "outputs": [
        {
          "output_type": "stream",
          "name": "stdout",
          "text": [
            "[ 0  1  2  3 -4 -5 -6 -7 -8  9 10]\n"
          ]
        }
      ]
    },
    {
      "cell_type": "markdown",
      "source": [
        "Exercise-24"
      ],
      "metadata": {
        "id": "PqeW6D3sHvxG"
      }
    },
    {
      "cell_type": "code",
      "source": [
        "print(sum(range(5),-1)) \n",
        "from numpy import * \n",
        "print(sum(range(5),-1))\n"
      ],
      "metadata": {
        "colab": {
          "base_uri": "https://localhost:8080/"
        },
        "id": "2j7OwV3SHx18",
        "outputId": "e8f09167-1419-41b6-eebb-59fea603b175"
      },
      "execution_count": null,
      "outputs": [
        {
          "output_type": "stream",
          "name": "stdout",
          "text": [
            "9\n",
            "10\n"
          ]
        }
      ]
    },
    {
      "cell_type": "markdown",
      "source": [
        "Exercise-25"
      ],
      "metadata": {
        "id": "kxkJiHbKJ69u"
      }
    },
    {
      "cell_type": "code",
      "source": [
        "Z=int(input(\"enter the number\"))\n",
        "Z**Z \n",
        "2 << Z >> 2 \n",
        "Z <- Z \n",
        "1j*Z \n",
        "Z/1/1 \n",
        "Z<Z>Z \n"
      ],
      "metadata": {
        "colab": {
          "base_uri": "https://localhost:8080/"
        },
        "id": "iRw2IXAeJ9oy",
        "outputId": "8bdf7a7f-f198-425c-bf1f-a748a04dcb10"
      },
      "execution_count": null,
      "outputs": [
        {
          "name": "stdout",
          "output_type": "stream",
          "text": [
            "enter the number5\n"
          ]
        },
        {
          "output_type": "execute_result",
          "data": {
            "text/plain": [
              "False"
            ]
          },
          "metadata": {},
          "execution_count": 6
        }
      ]
    },
    {
      "cell_type": "markdown",
      "source": [
        "Exercise-26"
      ],
      "metadata": {
        "id": "yiHCP3qsNSxL"
      }
    },
    {
      "cell_type": "code",
      "source": [
        "np.array(0) // np.array(0) \n",
        "np.array(0) // np.array(0.) \n",
        "np.array(0) / np.array(0) \n",
        "np.array(0) / np.array(0.) \n"
      ],
      "metadata": {
        "colab": {
          "base_uri": "https://localhost:8080/"
        },
        "id": "1HOXGdBUHx4B",
        "outputId": "131c236e-be19-4c21-9a11-a702c7459b59"
      },
      "execution_count": null,
      "outputs": [
        {
          "output_type": "stream",
          "name": "stderr",
          "text": [
            "/usr/local/lib/python3.7/dist-packages/ipykernel_launcher.py:1: RuntimeWarning: divide by zero encountered in floor_divide\n",
            "  \"\"\"Entry point for launching an IPython kernel.\n",
            "/usr/local/lib/python3.7/dist-packages/ipykernel_launcher.py:2: RuntimeWarning: invalid value encountered in floor_divide\n",
            "  \n",
            "/usr/local/lib/python3.7/dist-packages/ipykernel_launcher.py:3: RuntimeWarning: invalid value encountered in true_divide\n",
            "  This is separate from the ipykernel package so we can avoid doing imports until\n",
            "/usr/local/lib/python3.7/dist-packages/ipykernel_launcher.py:4: RuntimeWarning: invalid value encountered in true_divide\n",
            "  after removing the cwd from sys.path.\n"
          ]
        },
        {
          "output_type": "execute_result",
          "data": {
            "text/plain": [
              "nan"
            ]
          },
          "metadata": {},
          "execution_count": 7
        }
      ]
    },
    {
      "cell_type": "markdown",
      "source": [
        "Exercise-27"
      ],
      "metadata": {
        "id": "ShIOhvJsBa-7"
      }
    },
    {
      "cell_type": "code",
      "source": [
        "Z = np.random.uniform(-10,+10,10) \n",
        "print (np.trunc(Z + np.copysign(0.5, Z))) \n"
      ],
      "metadata": {
        "colab": {
          "base_uri": "https://localhost:8080/"
        },
        "id": "7pmEG0l3PhPk",
        "outputId": "76b2e9bc-d053-4fb7-ea86-7ca8ecdf020e"
      },
      "execution_count": null,
      "outputs": [
        {
          "output_type": "stream",
          "name": "stdout",
          "text": [
            "[ 1.  0.  4. -3. -1.  7.  4.  7. -7.  3.]\n"
          ]
        }
      ]
    },
    {
      "cell_type": "markdown",
      "source": [
        "Exercise-28"
      ],
      "metadata": {
        "id": "yCQQJl_KPlpv"
      }
    },
    {
      "cell_type": "code",
      "source": [
        "Z = np.random.uniform(0,10,10) \n",
        "print (Z - Z%1) \n",
        "print (np.floor(Z)) \n",
        "print (np.ceil(Z)-1)\n"
      ],
      "metadata": {
        "colab": {
          "base_uri": "https://localhost:8080/"
        },
        "id": "zDNdsHTuPnaG",
        "outputId": "e769863f-3072-4227-f35f-162286c3faf4"
      },
      "execution_count": null,
      "outputs": [
        {
          "output_type": "stream",
          "name": "stdout",
          "text": [
            "[6. 7. 9. 6. 5. 9. 7. 7. 4. 6.]\n",
            "[6. 7. 9. 6. 5. 9. 7. 7. 4. 6.]\n",
            "[6. 7. 9. 6. 5. 9. 7. 7. 4. 6.]\n"
          ]
        }
      ]
    },
    {
      "cell_type": "markdown",
      "source": [
        "Exercise-29"
      ],
      "metadata": {
        "id": "ruEFx_MWQePB"
      }
    },
    {
      "cell_type": "code",
      "source": [
        "Z = np.zeros((5,5)) \n",
        "Z += np.arange(5) \n",
        "print(Z) \n"
      ],
      "metadata": {
        "colab": {
          "base_uri": "https://localhost:8080/"
        },
        "id": "WRbdxMadQjiA",
        "outputId": "16640e35-2e29-463c-9133-98b1d641772e"
      },
      "execution_count": null,
      "outputs": [
        {
          "output_type": "stream",
          "name": "stdout",
          "text": [
            "[[0. 1. 2. 3. 4.]\n",
            " [0. 1. 2. 3. 4.]\n",
            " [0. 1. 2. 3. 4.]\n",
            " [0. 1. 2. 3. 4.]\n",
            " [0. 1. 2. 3. 4.]]\n"
          ]
        }
      ]
    },
    {
      "cell_type": "markdown",
      "source": [
        "Exercise-31"
      ],
      "metadata": {
        "id": "HUtEcds_IpGg"
      }
    },
    {
      "cell_type": "code",
      "source": [
        "import numpy as np\n",
        "Z = np.linspace(0,1,12,endpoint=True)[1:-1] \n",
        "print(Z) \n"
      ],
      "metadata": {
        "colab": {
          "base_uri": "https://localhost:8080/"
        },
        "id": "S4GG_iVhJBkk",
        "outputId": "eb74f6e9-0a09-4dea-875f-433eedabaf0c"
      },
      "execution_count": null,
      "outputs": [
        {
          "output_type": "stream",
          "name": "stdout",
          "text": [
            "[0.09090909 0.18181818 0.27272727 0.36363636 0.45454545 0.54545455\n",
            " 0.63636364 0.72727273 0.81818182 0.90909091]\n"
          ]
        }
      ]
    },
    {
      "cell_type": "markdown",
      "source": [
        "Exercise-32"
      ],
      "metadata": {
        "id": "4hzLH5eTJSI7"
      }
    },
    {
      "cell_type": "code",
      "source": [
        "Z = np.random.random(10) \n",
        "Z.sort() \n",
        "print(Z) \n"
      ],
      "metadata": {
        "colab": {
          "base_uri": "https://localhost:8080/"
        },
        "id": "qQi5n5BxJURQ",
        "outputId": "dcbcb6d6-8f99-4ba2-fb6b-9f3a92640772"
      },
      "execution_count": null,
      "outputs": [
        {
          "output_type": "stream",
          "name": "stdout",
          "text": [
            "[0.02072971 0.03072426 0.03640982 0.10193076 0.20406041 0.2220725\n",
            " 0.30402105 0.38130959 0.48314583 0.79478047]\n"
          ]
        }
      ]
    },
    {
      "cell_type": "markdown",
      "source": [
        "Exercise-33"
      ],
      "metadata": {
        "id": "UKabYV_BJhcv"
      }
    },
    {
      "cell_type": "code",
      "source": [
        "Z = np.arange(10) \n",
        "np.add.reduce(Z)"
      ],
      "metadata": {
        "colab": {
          "base_uri": "https://localhost:8080/"
        },
        "id": "JS11MCyHJlG0",
        "outputId": "8374e8cc-4eaa-4f14-c1bc-0df8d41bff86"
      },
      "execution_count": null,
      "outputs": [
        {
          "output_type": "execute_result",
          "data": {
            "text/plain": [
              "45"
            ]
          },
          "metadata": {},
          "execution_count": 4
        }
      ]
    },
    {
      "cell_type": "markdown",
      "source": [
        "Exercise-34"
      ],
      "metadata": {
        "id": "xuebt5c1JzTT"
      }
    },
    {
      "cell_type": "code",
      "source": [
        "A = np.random.randint(0,2,5) \n",
        "B = np.random.randint(0,2,5) \n",
        "equal = np.allclose(A,B) \n",
        "print(equal) \n"
      ],
      "metadata": {
        "colab": {
          "base_uri": "https://localhost:8080/"
        },
        "id": "rwKFOsvfJ1vD",
        "outputId": "038b816e-4cfe-44c9-e1be-7167d9279bcc"
      },
      "execution_count": null,
      "outputs": [
        {
          "output_type": "stream",
          "name": "stdout",
          "text": [
            "False\n"
          ]
        }
      ]
    },
    {
      "cell_type": "markdown",
      "source": [
        "Exercise-35"
      ],
      "metadata": {
        "id": "nPD_R_CeJ_-c"
      }
    },
    {
      "cell_type": "code",
      "source": [
        "Z = np.zeros(10) \n",
        "Z.flags.writeable = False\n",
        "Z[0]=1 \n",
        "print(Z)\n",
        "\n"
      ],
      "metadata": {
        "colab": {
          "base_uri": "https://localhost:8080/",
          "height": 245
        },
        "id": "2XV7FM3HKCGW",
        "outputId": "da518836-e035-4eb5-e611-90de57eedab9"
      },
      "execution_count": null,
      "outputs": [
        {
          "output_type": "error",
          "ename": "ValueError",
          "evalue": "ignored",
          "traceback": [
            "\u001b[0;31m---------------------------------------------------------------------------\u001b[0m",
            "\u001b[0;31mValueError\u001b[0m                                Traceback (most recent call last)",
            "\u001b[0;32m<ipython-input-11-f5144df98057>\u001b[0m in \u001b[0;36m<module>\u001b[0;34m()\u001b[0m\n\u001b[1;32m      1\u001b[0m \u001b[0mZ\u001b[0m \u001b[0;34m=\u001b[0m \u001b[0mnp\u001b[0m\u001b[0;34m.\u001b[0m\u001b[0mzeros\u001b[0m\u001b[0;34m(\u001b[0m\u001b[0;36m10\u001b[0m\u001b[0;34m)\u001b[0m\u001b[0;34m\u001b[0m\u001b[0;34m\u001b[0m\u001b[0m\n\u001b[1;32m      2\u001b[0m \u001b[0mZ\u001b[0m\u001b[0;34m.\u001b[0m\u001b[0mflags\u001b[0m\u001b[0;34m.\u001b[0m\u001b[0mwriteable\u001b[0m \u001b[0;34m=\u001b[0m \u001b[0;32mFalse\u001b[0m\u001b[0;34m\u001b[0m\u001b[0;34m\u001b[0m\u001b[0m\n\u001b[0;32m----> 3\u001b[0;31m \u001b[0mZ\u001b[0m\u001b[0;34m[\u001b[0m\u001b[0;36m0\u001b[0m\u001b[0;34m]\u001b[0m\u001b[0;34m=\u001b[0m\u001b[0;36m1\u001b[0m\u001b[0;34m\u001b[0m\u001b[0;34m\u001b[0m\u001b[0m\n\u001b[0m\u001b[1;32m      4\u001b[0m \u001b[0mprint\u001b[0m\u001b[0;34m(\u001b[0m\u001b[0mZ\u001b[0m\u001b[0;34m)\u001b[0m\u001b[0;34m\u001b[0m\u001b[0;34m\u001b[0m\u001b[0m\n\u001b[1;32m      5\u001b[0m \u001b[0;34m\u001b[0m\u001b[0m\n",
            "\u001b[0;31mValueError\u001b[0m: assignment destination is read-only"
          ]
        }
      ]
    },
    {
      "cell_type": "markdown",
      "source": [
        "Exercise-37"
      ],
      "metadata": {
        "id": "xxn74JTuQ6ZR"
      }
    },
    {
      "cell_type": "code",
      "source": [
        "\n",
        "import numpy as np\n",
        "Z = np.random.random(10) \n",
        "Z[Z.argmax()] = 0 \n",
        "print(Z)"
      ],
      "metadata": {
        "colab": {
          "base_uri": "https://localhost:8080/"
        },
        "id": "P0Bjqp27RA2J",
        "outputId": "9fea1fbf-8ccc-411e-9015-b3ed0e4a9658"
      },
      "execution_count": null,
      "outputs": [
        {
          "output_type": "stream",
          "name": "stdout",
          "text": [
            "[0.25560547 0.         0.57568465 0.06190483 0.49307194 0.72937085\n",
            " 0.11369841 0.44885291 0.74498127 0.3085502 ]\n"
          ]
        }
      ]
    },
    {
      "cell_type": "markdown",
      "source": [
        "Exercise-41"
      ],
      "metadata": {
        "id": "ywQ7IC2iRFoy"
      }
    },
    {
      "cell_type": "code",
      "source": [
        "import numpy as np\n",
        "np.set_printoptions(threshold=np.nan) \n",
        "Z = np.zeros((25,25)) \n",
        "print(Z) \n"
      ],
      "metadata": {
        "colab": {
          "base_uri": "https://localhost:8080/",
          "height": 396
        },
        "id": "cm4kiZkFvG7u",
        "outputId": "c29a3e8a-18e6-4c5f-cb23-ea3fb5fe08ff"
      },
      "execution_count": null,
      "outputs": [
        {
          "output_type": "error",
          "ename": "ValueError",
          "evalue": "ignored",
          "traceback": [
            "\u001b[0;31m---------------------------------------------------------------------------\u001b[0m",
            "\u001b[0;31mValueError\u001b[0m                                Traceback (most recent call last)",
            "\u001b[0;32m<ipython-input-2-753d8ff92e01>\u001b[0m in \u001b[0;36m<module>\u001b[0;34m()\u001b[0m\n\u001b[1;32m      1\u001b[0m \u001b[0;32mimport\u001b[0m \u001b[0mnumpy\u001b[0m \u001b[0;32mas\u001b[0m \u001b[0mnp\u001b[0m\u001b[0;34m\u001b[0m\u001b[0;34m\u001b[0m\u001b[0m\n\u001b[0;32m----> 2\u001b[0;31m \u001b[0mnp\u001b[0m\u001b[0;34m.\u001b[0m\u001b[0mset_printoptions\u001b[0m\u001b[0;34m(\u001b[0m\u001b[0mthreshold\u001b[0m\u001b[0;34m=\u001b[0m\u001b[0mnp\u001b[0m\u001b[0;34m.\u001b[0m\u001b[0mnan\u001b[0m\u001b[0;34m)\u001b[0m\u001b[0;34m\u001b[0m\u001b[0;34m\u001b[0m\u001b[0m\n\u001b[0m\u001b[1;32m      3\u001b[0m \u001b[0mZ\u001b[0m \u001b[0;34m=\u001b[0m \u001b[0mnp\u001b[0m\u001b[0;34m.\u001b[0m\u001b[0mzeros\u001b[0m\u001b[0;34m(\u001b[0m\u001b[0;34m(\u001b[0m\u001b[0;36m25\u001b[0m\u001b[0;34m,\u001b[0m\u001b[0;36m25\u001b[0m\u001b[0;34m)\u001b[0m\u001b[0;34m)\u001b[0m\u001b[0;34m\u001b[0m\u001b[0;34m\u001b[0m\u001b[0m\n\u001b[1;32m      4\u001b[0m \u001b[0mprint\u001b[0m\u001b[0;34m(\u001b[0m\u001b[0mZ\u001b[0m\u001b[0;34m)\u001b[0m\u001b[0;34m\u001b[0m\u001b[0;34m\u001b[0m\u001b[0m\n",
            "\u001b[0;32m/usr/local/lib/python3.7/dist-packages/numpy/core/arrayprint.py\u001b[0m in \u001b[0;36mset_printoptions\u001b[0;34m(precision, threshold, edgeitems, linewidth, suppress, nanstr, infstr, formatter, sign, floatmode, legacy)\u001b[0m\n\u001b[1;32m    252\u001b[0m     opt = _make_options_dict(precision, threshold, edgeitems, linewidth,\n\u001b[1;32m    253\u001b[0m                              \u001b[0msuppress\u001b[0m\u001b[0;34m,\u001b[0m \u001b[0mnanstr\u001b[0m\u001b[0;34m,\u001b[0m \u001b[0minfstr\u001b[0m\u001b[0;34m,\u001b[0m \u001b[0msign\u001b[0m\u001b[0;34m,\u001b[0m \u001b[0mformatter\u001b[0m\u001b[0;34m,\u001b[0m\u001b[0;34m\u001b[0m\u001b[0;34m\u001b[0m\u001b[0m\n\u001b[0;32m--> 254\u001b[0;31m                              floatmode, legacy)\n\u001b[0m\u001b[1;32m    255\u001b[0m     \u001b[0;31m# formatter is always reset\u001b[0m\u001b[0;34m\u001b[0m\u001b[0;34m\u001b[0m\u001b[0;34m\u001b[0m\u001b[0m\n\u001b[1;32m    256\u001b[0m     \u001b[0mopt\u001b[0m\u001b[0;34m[\u001b[0m\u001b[0;34m'formatter'\u001b[0m\u001b[0;34m]\u001b[0m \u001b[0;34m=\u001b[0m \u001b[0mformatter\u001b[0m\u001b[0;34m\u001b[0m\u001b[0;34m\u001b[0m\u001b[0m\n",
            "\u001b[0;32m/usr/local/lib/python3.7/dist-packages/numpy/core/arrayprint.py\u001b[0m in \u001b[0;36m_make_options_dict\u001b[0;34m(precision, threshold, edgeitems, linewidth, suppress, nanstr, infstr, sign, formatter, floatmode, legacy)\u001b[0m\n\u001b[1;32m     86\u001b[0m             \u001b[0;32mraise\u001b[0m \u001b[0mTypeError\u001b[0m\u001b[0;34m(\u001b[0m\u001b[0;34m\"threshold must be numeric\"\u001b[0m\u001b[0;34m)\u001b[0m\u001b[0;34m\u001b[0m\u001b[0;34m\u001b[0m\u001b[0m\n\u001b[1;32m     87\u001b[0m         \u001b[0;32mif\u001b[0m \u001b[0mnp\u001b[0m\u001b[0;34m.\u001b[0m\u001b[0misnan\u001b[0m\u001b[0;34m(\u001b[0m\u001b[0mthreshold\u001b[0m\u001b[0;34m)\u001b[0m\u001b[0;34m:\u001b[0m\u001b[0;34m\u001b[0m\u001b[0;34m\u001b[0m\u001b[0m\n\u001b[0;32m---> 88\u001b[0;31m             raise ValueError(\"threshold must be non-NAN, try \"\n\u001b[0m\u001b[1;32m     89\u001b[0m                              \"sys.maxsize for untruncated representation\")\n\u001b[1;32m     90\u001b[0m \u001b[0;34m\u001b[0m\u001b[0m\n",
            "\u001b[0;31mValueError\u001b[0m: threshold must be non-NAN, try sys.maxsize for untruncated representation"
          ]
        }
      ]
    },
    {
      "cell_type": "markdown",
      "source": [
        "Exercise-42"
      ],
      "metadata": {
        "id": "3k2AFE9lxHWE"
      }
    },
    {
      "cell_type": "code",
      "source": [
        "Z = np.arange(100) \n",
        "v = np.random.uniform(0,100) \n",
        "index = (np.abs(Z-v)).argmin() \n",
        "print(Z[index]) \n"
      ],
      "metadata": {
        "colab": {
          "base_uri": "https://localhost:8080/"
        },
        "id": "IYyNrZDXxJJa",
        "outputId": "5426fdb2-8b1e-435b-cbed-60d1a76a7440"
      },
      "execution_count": null,
      "outputs": [
        {
          "output_type": "stream",
          "name": "stdout",
          "text": [
            "13\n"
          ]
        }
      ]
    }
  ]
}